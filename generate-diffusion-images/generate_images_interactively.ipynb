{
  "nbformat": 4,
  "nbformat_minor": 0,
  "metadata": {
    "colab": {
      "provenance": [],
      "collapsed_sections": []
    },
    "kernelspec": {
      "name": "python3",
      "display_name": "Python 3"
    },
    "language_info": {
      "name": "python"
    },
    "accelerator": "GPU"
  },
  "cells": [
    {
      "cell_type": "code",
      "execution_count": null,
      "metadata": {
        "id": "zBz3RwT6sQSt"
      },
      "outputs": [],
      "source": [
        "!pip install tensorflow keras_cv --upgrade --quiet\n",
        "!apt install --allow-change-held-packages libcudnn8=8.1.0.77-1+cuda11.2"
      ]
    },
    {
      "cell_type": "code",
      "source": [
        "!git clone https://github.com/bsaldivaremc2/diffusion-model-scripts.git"
      ],
      "metadata": {
        "colab": {
          "base_uri": "https://localhost:8080/"
        },
        "id": "RVSP4O5PPGJP",
        "outputId": "289e7d81-2041-4fec-c96e-634cabbf7f6e"
      },
      "execution_count": 4,
      "outputs": [
        {
          "output_type": "stream",
          "name": "stdout",
          "text": [
            "Cloning into 'diffusion-model-scripts'...\n",
            "remote: Enumerating objects: 11, done.\u001b[K\n",
            "remote: Counting objects: 100% (11/11), done.\u001b[K\n",
            "remote: Compressing objects: 100% (9/9), done.\u001b[K\n",
            "remote: Total 11 (delta 1), reused 11 (delta 1), pack-reused 0\u001b[K\n",
            "Unpacking objects: 100% (11/11), done.\n"
          ]
        }
      ]
    },
    {
      "cell_type": "code",
      "source": [
        "import sys\n",
        "sys.path.insert(0,'./diffusion-model-scripts/generate-diffusion-images/')\n",
        "from simple_interactive import *"
      ],
      "metadata": {
        "id": "BTBLH0PVxP84"
      },
      "execution_count": 1,
      "outputs": []
    },
    {
      "cell_type": "code",
      "source": [
        "main_plain()"
      ],
      "metadata": {
        "colab": {
          "base_uri": "https://localhost:8080/"
        },
        "id": "ottZvWNlxQjz",
        "outputId": "92b7a308-5c71-4719-bfae-7ee69598e11e"
      },
      "execution_count": 2,
      "outputs": [
        {
          "name": "stdout",
          "output_type": "stream",
          "text": [
            "using mixed precision\n",
            "Loading model:\n",
            "By using this model checkpoint, you acknowledge that its usage is subject to the terms of the CreativeML Open RAIL-M license at https://raw.githubusercontent.com/CompVis/stable-diffusion/main/LICENSE\n",
            "Text to generate [Default: A cat playing guitar]:a bunny wearing a cop uniform riding a motorcycle\n",
            "Output directory [Default: ./results/]:\n",
            "Separate sentences by [Default: .]:\n",
            "Images per sentence [Default: 1]:5\n",
            "unconditional_guidance_scale [Default: 7.5]:\n",
            "Getting text enconding\n",
            "Getting images\n",
            "25/25 [==============================] - 70s 869ms/step\n",
            "Saving on ./results/a_bunny_wearing_a_cop_uniform_riding_a_motorcycle\n",
            "./results/a_bunny_wearing_a_cop_uniform_riding_a_motorcycle/generated_image_20221018-040329_0.jpg saved\n",
            "./results/a_bunny_wearing_a_cop_uniform_riding_a_motorcycle/generated_image_20221018-040329_1.jpg saved\n",
            "./results/a_bunny_wearing_a_cop_uniform_riding_a_motorcycle/generated_image_20221018-040329_2.jpg saved\n",
            "./results/a_bunny_wearing_a_cop_uniform_riding_a_motorcycle/generated_image_20221018-040329_3.jpg saved\n",
            "./results/a_bunny_wearing_a_cop_uniform_riding_a_motorcycle/generated_image_20221018-040329_4.jpg saved\n",
            "Done.\n",
            "Stop generating? Y/N [Default N]n\n",
            "Text to generate [Default: a bunny wearing a cop uniform riding a motorcycle]:a cat playing chess\n",
            "Output directory [Default: ./results/]:\n",
            "Separate sentences by [Default: .]:\n",
            "Images per sentence [Default: 5]:5\n",
            "unconditional_guidance_scale [Default: 7.5]:\n",
            "Getting text enconding\n",
            "Getting images\n",
            "25/25 [==============================] - 23s 901ms/step\n",
            "Saving on ./results/a_cat_playing_chess\n",
            "./results/a_cat_playing_chess/generated_image_20221018-040436_0.jpg saved\n",
            "./results/a_cat_playing_chess/generated_image_20221018-040436_1.jpg saved\n",
            "./results/a_cat_playing_chess/generated_image_20221018-040436_2.jpg saved\n",
            "./results/a_cat_playing_chess/generated_image_20221018-040436_3.jpg saved\n",
            "./results/a_cat_playing_chess/generated_image_20221018-040436_4.jpg saved\n",
            "Done.\n",
            "Stop generating? Y/N [Default N]y\n"
          ]
        }
      ]
    }
  ]
}